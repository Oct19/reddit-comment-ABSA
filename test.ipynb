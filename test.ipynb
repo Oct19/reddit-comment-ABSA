{
 "cells": [
  {
   "cell_type": "code",
   "execution_count": 17,
   "metadata": {},
   "outputs": [
    {
     "name": "stdout",
     "output_type": "stream",
     "text": [
      "     0              1\n",
      "0  123  text body 123\n"
     ]
    }
   ],
   "source": [
    "import pandas as pd\n",
    "a = [[123, 'text body 123'],[456,'text body 456'],[789,'text body 789']]\n",
    "df = pd.DataFrame(a)\n",
    "print(df[:-2])"
   ]
  },
  {
   "cell_type": "code",
   "execution_count": 18,
   "metadata": {},
   "outputs": [
    {
     "name": "stdout",
     "output_type": "stream",
     "text": [
      "[{'score': 1, 'Content': 'body'}]\n"
     ]
    }
   ],
   "source": [
    "data = []\n",
    "a_score = 1\n",
    "a_body = 'body'\n",
    "a = dict()\n",
    "a['score'] = a_score\n",
    "a['Content'] = a_body\n",
    "data.append(a)\n",
    "print(data)\n"
   ]
  },
  {
   "cell_type": "code",
   "execution_count": 19,
   "metadata": {},
   "outputs": [
    {
     "name": "stderr",
     "output_type": "stream",
     "text": [
      "c:\\Users\\Dingkun\\Documents\\GitHub\\reddit-comment-ABSA\\venv\\lib\\site-packages\\tqdm\\auto.py:22: TqdmWarning: IProgress not found. Please update jupyter and ipywidgets. See https://ipywidgets.readthedocs.io/en/stable/user_install.html\n",
      "  from .autonotebook import tqdm as notebook_tqdm\n",
      "Downloading config.json: 100%|██████████| 1.06k/1.06k [00:00<00:00, 542kB/s]\n",
      "Downloading tf_model.h5: 100%|██████████| 418M/418M [00:52<00:00, 8.42MB/s]   \n"
     ]
    },
    {
     "ename": "ValueError",
     "evalue": "Exception encountered when calling layer \"bert_abs_classifier\" \"                 f\"(type BertABSClassifier).\n\nThe first argument to `Layer.call` must always be passed.\n\nCall arguments received by layer \"bert_abs_classifier\" \"                 f\"(type BertABSClassifier):\n  • token_ids={'input_ids': 'tf.Tensor(shape=(3, 5), dtype=int32)'}\n  • attention_mask=None\n  • token_type_ids=None\n  • training=False\n  • bert_kwargs=<class 'inspect._empty'>",
     "output_type": "error",
     "traceback": [
      "\u001b[1;31m---------------------------------------------------------------------------\u001b[0m",
      "\u001b[1;31mValueError\u001b[0m                                Traceback (most recent call last)",
      "Cell \u001b[1;32mIn [19], line 3\u001b[0m\n\u001b[0;32m      1\u001b[0m \u001b[38;5;28;01mimport\u001b[39;00m \u001b[38;5;21;01maspect_based_sentiment_analysis\u001b[39;00m \u001b[38;5;28;01mas\u001b[39;00m \u001b[38;5;21;01mabsa\u001b[39;00m\n\u001b[1;32m----> 3\u001b[0m nlp \u001b[38;5;241m=\u001b[39m \u001b[43mabsa\u001b[49m\u001b[38;5;241;43m.\u001b[39;49m\u001b[43mload\u001b[49m\u001b[43m(\u001b[49m\u001b[43m)\u001b[49m\n\u001b[0;32m      4\u001b[0m text \u001b[38;5;241m=\u001b[39m (\u001b[38;5;124m\"\u001b[39m\u001b[38;5;124mWe are great fans of Slack, but we wish the subscriptions \u001b[39m\u001b[38;5;124m\"\u001b[39m\n\u001b[0;32m      5\u001b[0m         \u001b[38;5;124m\"\u001b[39m\u001b[38;5;124mwere more accessible to small startups.\u001b[39m\u001b[38;5;124m\"\u001b[39m)\n\u001b[0;32m      7\u001b[0m slack, price \u001b[38;5;241m=\u001b[39m nlp(text, aspects\u001b[38;5;241m=\u001b[39m[\u001b[38;5;124m'\u001b[39m\u001b[38;5;124mslack\u001b[39m\u001b[38;5;124m'\u001b[39m, \u001b[38;5;124m'\u001b[39m\u001b[38;5;124mprice\u001b[39m\u001b[38;5;124m'\u001b[39m])\n",
      "File \u001b[1;32mc:\\Users\\Dingkun\\Documents\\GitHub\\reddit-comment-ABSA\\venv\\lib\\site-packages\\aspect_based_sentiment_analysis\\loads.py:34\u001b[0m, in \u001b[0;36mload\u001b[1;34m(name, text_splitter, reference_recognizer, pattern_recognizer, **model_kwargs)\u001b[0m\n\u001b[0;32m     32\u001b[0m \u001b[39mtry\u001b[39;00m:\n\u001b[0;32m     33\u001b[0m     config \u001b[39m=\u001b[39m BertABSCConfig\u001b[39m.\u001b[39mfrom_pretrained(name, \u001b[39m*\u001b[39m\u001b[39m*\u001b[39mmodel_kwargs)\n\u001b[1;32m---> 34\u001b[0m     model \u001b[39m=\u001b[39m BertABSClassifier\u001b[39m.\u001b[39;49mfrom_pretrained(name, config\u001b[39m=\u001b[39;49mconfig)\n\u001b[0;32m     35\u001b[0m     tokenizer \u001b[39m=\u001b[39m transformers\u001b[39m.\u001b[39mBertTokenizer\u001b[39m.\u001b[39mfrom_pretrained(name)\n\u001b[0;32m     36\u001b[0m     professor \u001b[39m=\u001b[39m Professor(reference_recognizer, pattern_recognizer)\n",
      "File \u001b[1;32mc:\\Users\\Dingkun\\Documents\\GitHub\\reddit-comment-ABSA\\venv\\lib\\site-packages\\transformers\\modeling_tf_utils.py:2386\u001b[0m, in \u001b[0;36mTFPreTrainedModel.from_pretrained\u001b[1;34m(cls, pretrained_model_name_or_path, *model_args, **kwargs)\u001b[0m\n\u001b[0;32m   2384\u001b[0m         model(model\u001b[39m.\u001b[39mdummy_inputs)  \u001b[39m# build the network with dummy inputs\u001b[39;00m\n\u001b[0;32m   2385\u001b[0m \u001b[39melse\u001b[39;00m:\n\u001b[1;32m-> 2386\u001b[0m     model(model\u001b[39m.\u001b[39;49mdummy_inputs)  \u001b[39m# build the network with dummy inputs\u001b[39;00m\n\u001b[0;32m   2388\u001b[0m \u001b[39m# 'by_name' allow us to do transfer learning by skipping/adding layers\u001b[39;00m\n\u001b[0;32m   2389\u001b[0m \u001b[39m# see https://github.com/tensorflow/tensorflow/blob/00fad90125b18b80fe054de1055770cfb8fe4ba3/tensorflow/python/keras/engine/network.py#L1339-L1357\u001b[39;00m\n\u001b[0;32m   2390\u001b[0m \u001b[39mtry\u001b[39;00m:\n",
      "File \u001b[1;32mc:\\Users\\Dingkun\\Documents\\GitHub\\reddit-comment-ABSA\\venv\\lib\\site-packages\\keras\\utils\\traceback_utils.py:70\u001b[0m, in \u001b[0;36mfilter_traceback.<locals>.error_handler\u001b[1;34m(*args, **kwargs)\u001b[0m\n\u001b[0;32m     67\u001b[0m     filtered_tb \u001b[39m=\u001b[39m _process_traceback_frames(e\u001b[39m.\u001b[39m__traceback__)\n\u001b[0;32m     68\u001b[0m     \u001b[39m# To get the full stack trace, call:\u001b[39;00m\n\u001b[0;32m     69\u001b[0m     \u001b[39m# `tf.debugging.disable_traceback_filtering()`\u001b[39;00m\n\u001b[1;32m---> 70\u001b[0m     \u001b[39mraise\u001b[39;00m e\u001b[39m.\u001b[39mwith_traceback(filtered_tb) \u001b[39mfrom\u001b[39;00m \u001b[39mNone\u001b[39m\n\u001b[0;32m     71\u001b[0m \u001b[39mfinally\u001b[39;00m:\n\u001b[0;32m     72\u001b[0m     \u001b[39mdel\u001b[39;00m filtered_tb\n",
      "File \u001b[1;32mc:\\Users\\Dingkun\\Documents\\GitHub\\reddit-comment-ABSA\\venv\\lib\\site-packages\\aspect_based_sentiment_analysis\\models.py:141\u001b[0m, in \u001b[0;36mBertABSClassifier.call\u001b[1;34m(self, token_ids, attention_mask, token_type_ids, training, **bert_kwargs)\u001b[0m\n\u001b[0;32m    133\u001b[0m \u001b[39mdef\u001b[39;00m \u001b[39mcall\u001b[39m(\n\u001b[0;32m    134\u001b[0m         \u001b[39mself\u001b[39m,\n\u001b[0;32m    135\u001b[0m         token_ids: tf\u001b[39m.\u001b[39mTensor,\n\u001b[1;32m   (...)\u001b[0m\n\u001b[0;32m    139\u001b[0m         \u001b[39m*\u001b[39m\u001b[39m*\u001b[39mbert_kwargs\n\u001b[0;32m    140\u001b[0m ) \u001b[39m-\u001b[39m\u001b[39m>\u001b[39m Tuple[tf\u001b[39m.\u001b[39mTensor, Tuple[tf\u001b[39m.\u001b[39mTensor, \u001b[39m.\u001b[39m\u001b[39m.\u001b[39m\u001b[39m.\u001b[39m], Tuple[tf\u001b[39m.\u001b[39mTensor, \u001b[39m.\u001b[39m\u001b[39m.\u001b[39m\u001b[39m.\u001b[39m]]:\n\u001b[1;32m--> 141\u001b[0m     outputs \u001b[39m=\u001b[39m \u001b[39mself\u001b[39m\u001b[39m.\u001b[39mbert(\n\u001b[0;32m    142\u001b[0m         inputs\u001b[39m=\u001b[39mtoken_ids,\n\u001b[0;32m    143\u001b[0m         attention_mask\u001b[39m=\u001b[39mattention_mask,\n\u001b[0;32m    144\u001b[0m         token_type_ids\u001b[39m=\u001b[39mtoken_type_ids,\n\u001b[0;32m    145\u001b[0m         training\u001b[39m=\u001b[39mtraining,\n\u001b[0;32m    146\u001b[0m         \u001b[39m*\u001b[39m\u001b[39m*\u001b[39mbert_kwargs\n\u001b[0;32m    147\u001b[0m     )\n\u001b[0;32m    148\u001b[0m     sequence_output, pooled_output, hidden_states, attentions \u001b[39m=\u001b[39m outputs\n\u001b[0;32m    149\u001b[0m     pooled_output \u001b[39m=\u001b[39m \u001b[39mself\u001b[39m\u001b[39m.\u001b[39mdropout(pooled_output, training\u001b[39m=\u001b[39mtraining)\n",
      "\u001b[1;31mValueError\u001b[0m: Exception encountered when calling layer \"bert_abs_classifier\" \"                 f\"(type BertABSClassifier).\n\nThe first argument to `Layer.call` must always be passed.\n\nCall arguments received by layer \"bert_abs_classifier\" \"                 f\"(type BertABSClassifier):\n  • token_ids={'input_ids': 'tf.Tensor(shape=(3, 5), dtype=int32)'}\n  • attention_mask=None\n  • token_type_ids=None\n  • training=False\n  • bert_kwargs=<class 'inspect._empty'>"
     ]
    }
   ],
   "source": [
    "import aspect_based_sentiment_analysis as absa\n",
    "\n",
    "nlp = absa.load()\n",
    "text = (\"We are great fans of Slack, but we wish the subscriptions \"\n",
    "        \"were more accessible to small startups.\")\n",
    "\n",
    "slack, price = nlp(text, aspects=['slack', 'price'])\n",
    "assert price.sentiment == absa.Sentiment.negative\n",
    "assert slack.sentiment == absa.Sentiment.positive"
   ]
  },
  {
   "cell_type": "code",
   "execution_count": 20,
   "metadata": {},
   "outputs": [],
   "source": [
    "import pandas as pd\n",
    "import numpy as np\n",
    "import nltk\n",
    "from nltk.corpus import stopwords\n",
    "from nltk.corpus import wordnet\n",
    "from nltk.tokenize import word_tokenize, sent_tokenize\n",
    "from nltk.stem.wordnet import WordNetLemmatizer \n",
    "import stanfordnlp"
   ]
  },
  {
   "cell_type": "code",
   "execution_count": 2,
   "metadata": {},
   "outputs": [
    {
     "name": "stdout",
     "output_type": "stream",
     "text": [
      "./result/Comments ABSA\\Solidworks2022-09-07 22-46-41.csv\n"
     ]
    }
   ],
   "source": [
    "import glob\n",
    "import os\n",
    "\n",
    "list_of_files = glob.glob('./result/Comments ABSA/*') # * means all if need specific format then *.csv\n",
    "latest_file = max(list_of_files, key=os.path.getctime)\n",
    "print(latest_file)"
   ]
  },
  {
   "cell_type": "code",
   "execution_count": 21,
   "metadata": {},
   "outputs": [
    {
     "name": "stdout",
     "output_type": "stream",
     "text": [
      "Using the default treebank \"en_ewt\" for language \"en\".\n",
      "Would you like to download the models for: en_ewt now? (Y/n)\n",
      "\n",
      "Default download directory: C:\\Users\\Dingkun\\stanfordnlp_resources\n",
      "Hit enter to continue or type an alternate directory.\n",
      "\n",
      "Downloading models for: en_ewt\n",
      "Download location: Y\\en_ewt_models.zip\n"
     ]
    },
    {
     "name": "stderr",
     "output_type": "stream",
     "text": [
      "  0%|          | 0.00/235M [00:00<?, ?B/s]"
     ]
    }
   ],
   "source": [
    "stanfordnlp.download('en')\n",
    "nltk.download('stopwords')\n",
    "nltk.download('punkt')\n",
    "nltk.download('averaged_perceptron_tagger')"
   ]
  }
 ],
 "metadata": {
  "kernelspec": {
   "display_name": "Python 3.10.4 ('venv': venv)",
   "language": "python",
   "name": "python3"
  },
  "language_info": {
   "codemirror_mode": {
    "name": "ipython",
    "version": 3
   },
   "file_extension": ".py",
   "mimetype": "text/x-python",
   "name": "python",
   "nbconvert_exporter": "python",
   "pygments_lexer": "ipython3",
   "version": "3.10.4"
  },
  "orig_nbformat": 4,
  "vscode": {
   "interpreter": {
    "hash": "2ca362ee8c2a3892e66afdc6f652e7a06f43a116a7d19abb2ceacd80b0a55de5"
   }
  }
 },
 "nbformat": 4,
 "nbformat_minor": 2
}
